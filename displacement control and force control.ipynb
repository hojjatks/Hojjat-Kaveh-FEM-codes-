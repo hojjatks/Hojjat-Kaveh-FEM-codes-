{
 "cells": [
  {
   "cell_type": "code",
   "execution_count": 1,
   "metadata": {},
   "outputs": [],
   "source": [
    "import numpy as np\n",
    "from matplotlib import pyplot as plt"
   ]
  },
  {
   "cell_type": "code",
   "execution_count": 2,
   "metadata": {},
   "outputs": [],
   "source": [
    "## Element stiffness matrices for a truss element\n",
    "class GreenTrussElement:\n",
    "    def __init__(self,GlobalInitPosition,GlobalDisplacement,E,A0):\n",
    "        #GlobalInitPosition # X1 Y1 X2 Y2 global coordinates of the nodes\n",
    "        #GlobalDisplacement # u1 v1 u2 v2 global displacement vector\n",
    "        self.GlobalInitPosition=GlobalInitPosition\n",
    "        self.GlobalDisplacement=GlobalDisplacement\n",
    "        self.E=E\n",
    "        self.A0=A0\n",
    "        self.l0=np.sqrt((GlobalInitPosition[2]-GlobalInitPosition[0])**2+(GlobalInitPosition[3]-GlobalInitPosition[1])**2)\n",
    "        \n",
    "    def ElementChar(self):\n",
    "\n",
    "\n",
    "        self.x21=self.GlobalInitPosition[2]-self.GlobalInitPosition[0]\n",
    "        self.y21=self.GlobalInitPosition[3]-self.GlobalInitPosition[1]\n",
    "        self.u21=self.GlobalDisplacement[2]-self.GlobalDisplacement[0]\n",
    "        self.v21=self.GlobalDisplacement[3]-self.GlobalDisplacement[1]\n",
    "        \n",
    "        self.b=(np.transpose(np.array([-(self.x21+self.u21), -(self.y21+self.v21), (self.x21+self.u21), (self.y21+self.v21)])))/(self.l0**2)\n",
    "        self.epsilon=(2*self.x21*self.u21 + 2*self.y21*self.v21 +self.u21**2 +self.v21**2)/(2*self.l0*2)\n",
    "        self.sigma=self.E*self.epsilon\n",
    "        K_a=np.array([[1,0,-1,0],[0,1,0,-1],[-1,0,1,0],[0 ,-1, 0 ,1]])/(self.l0**2)\n",
    "        self.q=self.A0*self.l0*self.sigma*np.transpose(self.b)\n",
    "        #K= A0L0(b'EB+sigma+K_a)\n",
    "        self.K= self.A0*self.l0*(self.E*(np.transpose(self.b)).dot(self.b)+ self.sigma*K_a)\n",
    "        \n",
    "    \n",
    "    "
   ]
  },
  {
   "cell_type": "code",
   "execution_count": 3,
   "metadata": {},
   "outputs": [],
   "source": [
    "## Global Stiffness Matrix and Force Matrices\n",
    "def Assemble(K_elements):\n",
    "    NumOfElements=K_elements.shape[0]\n",
    "    # K_elements is the tensor of (NumOfElements)*4*4\n",
    "    K=np.zeros(((NumOfElements+1)*2,(NumOfElements+1)*2))\n",
    "    for i in range(NumOfElements):\n",
    "        K_temp=np.zeros(((NumOfElements+1)*2,(NumOfElements+1)*2))\n",
    "        K_temp=K_elements[i,:,:]\n",
    "        K[(i)*2:(i)*2+4,(i)*2:(i)*2+4] +=K_temp\n",
    "    return K\n"
   ]
  },
  {
   "cell_type": "code",
   "execution_count": 4,
   "metadata": {},
   "outputs": [],
   "source": [
    "## Global Force vector\n",
    "F=(np.array([[0, 0, 0, -1, 0, 0]])).T"
   ]
  },
  {
   "cell_type": "code",
   "execution_count": 5,
   "metadata": {},
   "outputs": [],
   "source": [
    "## Force Control\n",
    "tol=0.001\n",
    "A0=.01\n",
    "E=2*100000\n",
    "NumberOfPoints=10\n",
    "element1=GreenTrussElement([0,0,1,.1],np.zeros((4,1)),E,A0)\n",
    "element1.ElementChar()\n",
    "element2=GreenTrussElement([1,.1,1.5,0],np.zeros((4,1)),E,A0)\n",
    "element2.ElementChar()\n",
    "K_elements=np.zeros((2,4,4))\n",
    "q=np.zeros((6,1))\n",
    "d=np.zeros((6,1))\n",
    "g=np.zeros((6,1))\n",
    "F_plot=np.zeros((NumberOfPoints,1))\n",
    "d_plot=np.zeros((NumberOfPoints,6))\n",
    "for i in range(1,NumberOfPoints*2,2):\n",
    "     \n",
    "     landa=i*0.1\n",
    "     g=q-landa*F\n",
    "     F_plot[int((i-1)/2)]=landa*1\n",
    "     r=abs(g[3])\n",
    "     d_plot[int((i-1)/2),:]=d[:,0]\n",
    "     while r>tol:\n",
    "        \n",
    "        element1.GlobalDisplacement=d[0:4]\n",
    "        element2.GlobalDisplacement=d[2:6]\n",
    "        element1.ElementChar()\n",
    "        element2.ElementChar()\n",
    "        \n",
    "        K1=element1.K\n",
    "        K2=element2.K\n",
    "        K_elements[0,:,:]=K1\n",
    "        K_elements[1,:,:]=K2\n",
    "        \n",
    "        K=Assemble(K_elements)\n",
    "        for counter in [0,1,4,5]:\n",
    "                K[counter,:]=np.zeros((1,6))\n",
    "                K[:,counter]=np.zeros((1,6))\n",
    "        for i in [0,1,4,5]:\n",
    "                K[i,i]=1\n",
    "                \n",
    "        delta_d=-np.matmul(np.linalg.inv(K),(g))\n",
    "        \n",
    "        d=d+delta_d\n",
    "        \n",
    "        element1.GlobalDisplacement=d[0:4]\n",
    "        element2.GlobalDisplacement=d[2:6]\n",
    "        element1.ElementChar()\n",
    "        element2.ElementChar()        \n",
    "        \n",
    "        q1=element1.q\n",
    "        q2=element2.q\n",
    "        \n",
    "        q=np.array([[0,0,q1[2]+q2[0],q1[3]+q2[1],0,0]]).T\n",
    "        g=q-landa*F\n",
    "\n",
    "        r=abs(g[3])        \n",
    "\n",
    "    \n",
    "        \n",
    "\n"
   ]
  },
  {
   "cell_type": "code",
   "execution_count": 6,
   "metadata": {},
   "outputs": [
    {
     "data": {
      "text/plain": [
       "Text(0, 0.5, '-F')"
      ]
     },
     "execution_count": 6,
     "metadata": {},
     "output_type": "execute_result"
    },
    {
     "data": {
      "image/png": "[encoded data removed]",
      "text/plain": [
       "<Figure size 432x288 with 1 Axes>"
      ]
     },
     "metadata": {
      "needs_background": "light"
     },
     "output_type": "display_data"
    }
   ],
   "source": [
    "## Plotting\n",
    "plt.plot(d_plot[:,2] ,F_plot,'o-')\n",
    "plt.xlabel('u')\n",
    "plt.ylabel('-F')\n"
   ]
  },
  {
   "cell_type": "code",
   "execution_count": 7,
   "metadata": {},
   "outputs": [
    {
     "data": {
      "text/plain": [
       "Text(0, 0.5, '-F')"
      ]
     },
     "execution_count": 7,
     "metadata": {},
     "output_type": "execute_result"
    },
    {
     "data": {
      "image/png": "[encoded data removed]",
      "text/plain": [
       "<Figure size 432x288 with 1 Axes>"
      ]
     },
     "metadata": {
      "needs_background": "light"
     },
     "output_type": "display_data"
    }
   ],
   "source": [
    "plt.plot(-d_plot[:,3] ,F_plot,'o-')\n",
    "plt.xlabel('-v')\n",
    "plt.ylabel('-F')"
   ]
  },
  {
   "cell_type": "code",
   "execution_count": 8,
   "metadata": {},
   "outputs": [],
   "source": [
    "## Displacement Control\n",
    "tol=0.003\n",
    "A0=.01\n",
    "E=2*100000\n",
    "NumberOfPoints=20\n",
    "\n",
    "element1=GreenTrussElement([0,0,1,.1],np.zeros((4,1)),E,A0)\n",
    "element1.ElementChar()\n",
    "\n",
    "element2=GreenTrussElement([1,.1,1.5,0],np.zeros((4,1)),E,A0)\n",
    "element2.ElementChar()\n",
    "\n",
    "K_elements=np.zeros((2,4,4))\n",
    "\n",
    "q=np.zeros((6,1))\n",
    "\n",
    "g=np.zeros((6,1))\n",
    "#F=np.zeros((6,1))\n",
    "K_a=np.zeros((7,7))\n",
    "K_a[6,3]=1\n",
    "K_a[0:6,6]=[0, 0, 0, +1, 0, 0]\n",
    "\n",
    "F_plot=np.zeros((NumberOfPoints,1))\n",
    "d_plot=np.zeros((NumberOfPoints,7))\n",
    "g_temp=np.array([0])\n",
    "\n",
    "landa=0\n",
    "\n",
    "for i in range(0,NumberOfPoints,1):\n",
    "    \n",
    "     # Initial guess for solving 7 equations\n",
    "     d=np.zeros((7,1))\n",
    "     d[3]=-.01*i\n",
    "     F_plot[(i-1)]=landa*1\n",
    "     #d_plot[(i-1),:]=d[:,0] \n",
    "     r=1\n",
    "     counter2=1\n",
    "     while r>tol or counter2<10:\n",
    "\n",
    "        counter2+=1\n",
    "        # finding K to Construct K_a\n",
    "        element1.GlobalDisplacement=d[0:4]\n",
    "        element2.GlobalDisplacement=d[2:6]\n",
    "        element1.ElementChar()\n",
    "        element2.ElementChar()        \n",
    "        K1=element1.K\n",
    "        K2=element2.K\n",
    "        K_elements[0,:,:]=K1\n",
    "        K_elements[1,:,:]=K2\n",
    "        \n",
    "        K=Assemble(K_elements)\n",
    "        for counter in [0,1,4,5]:\n",
    "                K[counter,:]=np.zeros((1,6))\n",
    "                K[:,counter]=np.zeros((1,6))\n",
    "        for j in [0,1,4,5]:\n",
    "                K[j,j]=1\n",
    "        \n",
    "        K_a[0:6,0:6]=K\n",
    "        \n",
    "        g_temp=d[3]+.01*i\n",
    "        \n",
    "        G=np.vstack([g,g_temp])\n",
    "        \n",
    "        delta_d_landa=-np.matmul(np.linalg.inv(K_a),(G))\n",
    "        \n",
    "        d=d+delta_d_landa\n",
    "\n",
    "        landa=d[6]\n",
    "\n",
    "        element1.GlobalDisplacement=d[0:4]\n",
    "        element2.GlobalDisplacement=d[2:6]\n",
    "\n",
    "        element1.ElementChar()\n",
    "        element2.ElementChar()        \n",
    "        \n",
    "        q1=element1.q\n",
    "        q2=element2.q\n",
    "        \n",
    "        q=np.array([[0,0,q1[2]+q2[0],q1[3]+q2[1],0,0]]).T\n",
    "        g=q-landa*F\n",
    "        r=abs(G[0])+abs(G[1])+abs(G[2])+abs(G[3])+abs(G[4])+abs(G[5])+abs(G[6])\n",
    "        if r < tol and counter2>3:\n",
    "            d_plot[i,:]=d[:,0]\n",
    "        \n",
    "\n"
   ]
  },
  {
   "cell_type": "code",
   "execution_count": 9,
   "metadata": {},
   "outputs": [
    {
     "data": {
      "text/plain": [
       "Text(0, 0.5, '-F')"
      ]
     },
     "execution_count": 9,
     "metadata": {},
     "output_type": "execute_result"
    },
    {
     "data": {
      "image/png": "[encoded data removed]",
      "text/plain": [
       "<Figure size 432x288 with 1 Axes>"
      ]
     },
     "metadata": {
      "needs_background": "light"
     },
     "output_type": "display_data"
    }
   ],
   "source": [
    "## Plotting\n",
    "\n",
    "plt.plot(-d_plot[:,3] ,d_plot[:,-1],'o-')\n",
    "plt.xlabel('v')\n",
    "plt.ylabel('-F')\n"
   ]
  },
  {
   "cell_type": "code",
   "execution_count": 10,
   "metadata": {},
   "outputs": [
    {
     "data": {
      "text/plain": [
       "Text(0, 0.5, '-F')"
      ]
     },
     "execution_count": 10,
     "metadata": {},
     "output_type": "execute_result"
    },
    {
     "data": {
      "image/png": "[encoded data removed]",
      "text/plain": [
       "<Figure size 432x288 with 1 Axes>"
      ]
     },
     "metadata": {
      "needs_background": "light"
     },
     "output_type": "display_data"
    }
   ],
   "source": [
    "plt.plot(d_plot[:,2] ,d_plot[:,-1],'o-')\n",
    "plt.xlabel('u')\n",
    "plt.ylabel('-F')"
   ]
  },
  {
   "cell_type": "code",
   "execution_count": null,
   "metadata": {},
   "outputs": [],
   "source": []
  }
 ],
 "metadata": {
  "kernelspec": {
   "display_name": "Python 3",
   "language": "python",
   "name": "python3"
  },
  "language_info": {
   "codemirror_mode": {
    "name": "ipython",
    "version": 3
   },
   "file_extension": ".py",
   "mimetype": "text/x-python",
   "name": "python",
   "nbconvert_exporter": "python",
   "pygments_lexer": "ipython3",
   "version": "3.7.6"
  }
 },
 "nbformat": 4,
 "nbformat_minor": 4
}
